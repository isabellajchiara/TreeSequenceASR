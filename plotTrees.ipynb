{
 "cells": [
  {
   "cell_type": "code",
   "execution_count": null,
   "id": "4bad3c59",
   "metadata": {},
   "outputs": [],
   "source": [
    "import pandas as pd\n",
    "import tsinfer as ts\n",
    "import tskit as tskit\n",
    "import tsinfer as ts\n",
    "from IPython.display import display\n"
   ]
  },
  {
   "cell_type": "code",
   "execution_count": null,
   "id": "591c715c",
   "metadata": {},
   "outputs": [],
   "source": [
    "trees = ts.infer(sample_data)"
   ]
  },
  {
   "cell_type": "code",
   "execution_count": null,
   "id": "936a6418",
   "metadata": {},
   "outputs": [],
   "source": [
    "data = pd.read_csv(\"haplotypesPYT.csv\") #import haplotypes. a matrix of haplotypes, from ASR, each col is a SegSite\n",
    "geno = data.transpose() #each row is a SegSite\n",
    "geno.drop(index=geno.index[:2], axis=0, inplace=True) #remove first two rows of identifying information\n",
    "locations = pd.read_csv(\"alleleData.csv\") #contains morgans and alleles of each SegSite\n",
    "sample_data = ts.SampleData(path=\"testts.samples\")\n",
    "nsites = len(locations.index)\n"
   ]
  },
  {
   "cell_type": "code",
   "execution_count": null,
   "id": "f1710e84",
   "metadata": {},
   "outputs": [],
   "source": [
    "def createSampleData(geno, locations) :\n",
    "    for x in range(0, nsites):\n",
    "        position = locations.iloc[x,2] # position is the xth row of column 2 of locations DF\n",
    "        genotypes = geno.iloc[x,:] # row = locus. entire row = state at that locus for every obs.\n",
    "        genotypes = genotypes.tolist() # genotypes must be list\n",
    "        alleles = locations.iloc[x,3] # alleles are the xth row of column 3 of the locations dataframe\n",
    "        allele1 = alleles[1:2]\n",
    "        allele2 = alleles[3:4]\n",
    "        alleles = [allele1,allele2]\n",
    "\n",
    "        sample_data.add_site(position=position, genotypes=genotypes, alleles=alleles)\n",
    "\n",
    "    sample_data.finalise()"
   ]
  },
  {
   "cell_type": "code",
   "execution_count": null,
   "id": "a460bd2e",
   "metadata": {},
   "outputs": [],
   "source": [
    "treeData = tskit.load(\"testTSAYT.trees\") #your TS,treeData is now in the python environment\n"
   ]
  },
  {
   "cell_type": "code",
   "execution_count": null,
   "id": "07bc017e",
   "metadata": {},
   "outputs": [],
   "source": [
    "treeData = tskit.load(\"testTSAYT.trees\")"
   ]
  },
  {
   "cell_type": "code",
   "execution_count": null,
   "id": "1752092b",
   "metadata": {},
   "outputs": [],
   "source": [
    "svg_string = treeData.draw_svg(\n",
    "    y_axis=True, y_label=\"breeding program\",  # optional: show a time scale on the left\n",
    "    time_scale=\"rank\", x_scale=\"treewise\",  # Force same axis settings as the text view\n",
    ")\n",
    "display(svg_string)  # If the last line in a cell, wrapping this in display() is not needed"
   ]
  },
  {
   "cell_type": "code",
   "execution_count": null,
   "id": "72c81b40",
   "metadata": {},
   "outputs": [],
   "source": [
    "third_tree = treeData.at_index(2)\n",
    "print(\"... or just look at (say) the third tree\")\n",
    "display(third_tree.draw_svg())"
   ]
  },
  {
   "cell_type": "code",
   "execution_count": null,
   "id": "0f2d9109",
   "metadata": {},
   "outputs": [],
   "source": [
    "wide_fmt = (1000, 500)\n",
    "\n",
    "node_label_style = (\n",
    "    \".node > .lab {font-size: 80%}\"\n",
    "    \".leaf > .lab {text-anchor: start; transform: rotate(90deg) translate(6px)}\"\n",
    ")\n",
    "\n",
    "third_tree.draw_svg(\n",
    "    size=wide_fmt,\n",
    "    time_scale=\"log_time\",\n",
    "    y_gridlines=True,\n",
    "    y_axis=True,\n",
    "    x_axis = True,\n",
    "    y_ticks=[1, 10, 100, 1000],\n",
    "    style=node_label_style,\n",
    ")\n",
    "\n"
   ]
  },
  {
   "cell_type": "code",
   "execution_count": null,
   "id": "144a2974",
   "metadata": {},
   "outputs": [],
   "source": [
    "treeData.populations()"
   ]
  },
  {
   "cell_type": "code",
   "execution_count": null,
   "id": "f58f6762",
   "metadata": {},
   "outputs": [],
   "source": [
    "svg_string = treeData.draw_svg(\n",
    "    y_axis=True, y_label=\"earlier breeding generations\",  # optional: show a time scale on the left\n",
    "    time_scale=\"rank\", x_scale=\"treewise\",  # Force same axis settings as the text view\n",
    ")\n"
   ]
  },
  {
   "cell_type": "code",
   "execution_count": null,
   "id": "ae4b50e6",
   "metadata": {},
   "outputs": [],
   "source": [
    "display(svg_string)  # If the last line in a cell, wrapping this in display() is not needed\n"
   ]
  },
  {
   "cell_type": "code",
   "execution_count": null,
   "id": "b82178e0",
   "metadata": {},
   "outputs": [],
   "source": [
    "wide_fmt = (800, 250)\n",
    "\n",
    "node_label_style = (\n",
    "    \".node > .lab {font-size: 80%}\"\n",
    "    \".leaf > .lab {text-anchor: start; transform: rotate(90deg) translate(6px)}\"\n",
    ")\n",
    "sec_tree.draw_svg(\n",
    "    size=wide_fmt,\n",
    "    time_scale=\"log_time\",\n",
    "    y_gridlines=True,\n",
    "    y_axis=True,\n",
    "    y_ticks=[1, 10, 100, 1000],\n",
    "    style=node_label_style,\n",
    ")"
   ]
  }
 ],
 "metadata": {
  "kernelspec": {
   "display_name": "Python 3 (ipykernel)",
   "language": "python",
   "name": "python3"
  },
  "language_info": {
   "codemirror_mode": {
    "name": "ipython",
    "version": 3
   },
   "file_extension": ".py",
   "mimetype": "text/x-python",
   "name": "python",
   "nbconvert_exporter": "python",
   "pygments_lexer": "ipython3",
   "version": "3.9.7"
  }
 },
 "nbformat": 4,
 "nbformat_minor": 5
}
